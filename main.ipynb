{
 "cells": [
  {
   "cell_type": "code",
   "execution_count": 1,
   "id": "initial_id",
   "metadata": {
    "is_executing": true
   },
   "outputs": [],
   "source": [
    "import pandas as pd\n",
    "import matplotlib.pyplot as plt"
   ]
  },
  {
   "cell_type": "markdown",
   "id": "5907e0919a2af22d",
   "metadata": {
    "collapsed": false,
    "jupyter": {
     "outputs_hidden": false
    }
   },
   "source": [
    "# Load dataset"
   ]
  },
  {
   "cell_type": "code",
   "execution_count": 4,
   "id": "d4f32d502cbb919b",
   "metadata": {
    "collapsed": false,
    "jupyter": {
     "outputs_hidden": false
    }
   },
   "outputs": [
    {
     "data": {
      "text/html": [
       "<div>\n",
       "<style scoped>\n",
       "    .dataframe tbody tr th:only-of-type {\n",
       "        vertical-align: middle;\n",
       "    }\n",
       "\n",
       "    .dataframe tbody tr th {\n",
       "        vertical-align: top;\n",
       "    }\n",
       "\n",
       "    .dataframe thead th {\n",
       "        text-align: right;\n",
       "    }\n",
       "</style>\n",
       "<table border=\"1\" class=\"dataframe\">\n",
       "  <thead>\n",
       "    <tr style=\"text-align: right;\">\n",
       "      <th></th>\n",
       "      <th>Datetime</th>\n",
       "      <th>Latitude</th>\n",
       "      <th>Longitude</th>\n",
       "      <th>Altitude</th>\n",
       "      <th>Distance</th>\n",
       "      <th>HeartRate</th>\n",
       "      <th>Speed</th>\n",
       "      <th>Cadence</th>\n",
       "      <th>Watts</th>\n",
       "    </tr>\n",
       "  </thead>\n",
       "  <tbody>\n",
       "    <tr>\n",
       "      <th>0</th>\n",
       "      <td>2020-10-10 10:01:56+00:00</td>\n",
       "      <td>61.499642</td>\n",
       "      <td>23.759591</td>\n",
       "      <td>97.800003</td>\n",
       "      <td>0.00</td>\n",
       "      <td>123</td>\n",
       "      <td>1.437</td>\n",
       "      <td>NaN</td>\n",
       "      <td>NaN</td>\n",
       "    </tr>\n",
       "    <tr>\n",
       "      <th>1</th>\n",
       "      <td>2020-10-10 10:01:57+00:00</td>\n",
       "      <td>61.499658</td>\n",
       "      <td>23.759586</td>\n",
       "      <td>97.000000</td>\n",
       "      <td>1.79</td>\n",
       "      <td>124</td>\n",
       "      <td>1.773</td>\n",
       "      <td>NaN</td>\n",
       "      <td>NaN</td>\n",
       "    </tr>\n",
       "    <tr>\n",
       "      <th>2</th>\n",
       "      <td>2020-10-10 10:01:58+00:00</td>\n",
       "      <td>61.499674</td>\n",
       "      <td>23.759582</td>\n",
       "      <td>97.599998</td>\n",
       "      <td>3.53</td>\n",
       "      <td>126</td>\n",
       "      <td>1.773</td>\n",
       "      <td>NaN</td>\n",
       "      <td>NaN</td>\n",
       "    </tr>\n",
       "    <tr>\n",
       "      <th>3</th>\n",
       "      <td>2020-10-10 10:01:59+00:00</td>\n",
       "      <td>61.499693</td>\n",
       "      <td>23.759588</td>\n",
       "      <td>97.800003</td>\n",
       "      <td>5.60</td>\n",
       "      <td>127</td>\n",
       "      <td>1.773</td>\n",
       "      <td>NaN</td>\n",
       "      <td>NaN</td>\n",
       "    </tr>\n",
       "    <tr>\n",
       "      <th>4</th>\n",
       "      <td>2020-10-10 10:02:00+00:00</td>\n",
       "      <td>61.499708</td>\n",
       "      <td>23.759581</td>\n",
       "      <td>98.000000</td>\n",
       "      <td>7.24</td>\n",
       "      <td>129</td>\n",
       "      <td>1.782</td>\n",
       "      <td>NaN</td>\n",
       "      <td>NaN</td>\n",
       "    </tr>\n",
       "  </tbody>\n",
       "</table>\n",
       "</div>"
      ],
      "text/plain": [
       "                    Datetime   Latitude  Longitude   Altitude  Distance  \\\n",
       "0  2020-10-10 10:01:56+00:00  61.499642  23.759591  97.800003      0.00   \n",
       "1  2020-10-10 10:01:57+00:00  61.499658  23.759586  97.000000      1.79   \n",
       "2  2020-10-10 10:01:58+00:00  61.499674  23.759582  97.599998      3.53   \n",
       "3  2020-10-10 10:01:59+00:00  61.499693  23.759588  97.800003      5.60   \n",
       "4  2020-10-10 10:02:00+00:00  61.499708  23.759581  98.000000      7.24   \n",
       "\n",
       "   HeartRate  Speed  Cadence  Watts  \n",
       "0        123  1.437      NaN    NaN  \n",
       "1        124  1.773      NaN    NaN  \n",
       "2        126  1.773      NaN    NaN  \n",
       "3        127  1.773      NaN    NaN  \n",
       "4        129  1.782      NaN    NaN  "
      ]
     },
     "execution_count": 4,
     "metadata": {},
     "output_type": "execute_result"
    }
   ],
   "source": [
    "df = pd.read_csv(\"./data/HMdata.csv\", sep=\";\")\n",
    "df.head()"
   ]
  },
  {
   "cell_type": "code",
   "execution_count": null,
   "id": "84129771-0104-48be-a59c-9b97b999de43",
   "metadata": {},
   "outputs": [],
   "source": []
  }
 ],
 "metadata": {
  "kernelspec": {
   "display_name": "Python 3 (ipykernel)",
   "language": "python",
   "name": "python3"
  },
  "language_info": {
   "codemirror_mode": {
    "name": "ipython",
    "version": 3
   },
   "file_extension": ".py",
   "mimetype": "text/x-python",
   "name": "python",
   "nbconvert_exporter": "python",
   "pygments_lexer": "ipython3",
   "version": "3.11.4"
  }
 },
 "nbformat": 4,
 "nbformat_minor": 5
}
